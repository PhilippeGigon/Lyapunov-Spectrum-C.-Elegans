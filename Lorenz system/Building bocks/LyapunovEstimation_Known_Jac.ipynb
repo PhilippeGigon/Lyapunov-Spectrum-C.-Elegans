{
 "cells": [
  {
   "cell_type": "markdown",
   "metadata": {},
   "source": [
    "# Computing Lyapunov exponents\n",
    "This script aims at computing the Lyapunov exponent for the Lorenz system in the case where the Jacobian matrix is explicitly known."
   ]
  },
  {
   "cell_type": "code",
   "execution_count": 7,
   "metadata": {},
   "outputs": [],
   "source": [
    "import matplotlib.pyplot as plt\n",
    "import numpy as np\n",
    "import math as math\n",
    "from tqdm import tqdm\n",
    "from scipy import integrate\n",
    "from scipy.linalg import expm\n",
    "from sklearn.decomposition import PCA\n",
    "from __future__ import division"
   ]
  },
  {
   "cell_type": "code",
   "execution_count": 3,
   "metadata": {},
   "outputs": [],
   "source": [
    "#parameters of the system\n",
    "rho = 28\n",
    "sigma = 10\n",
    "beta =8/3\n",
    "\n",
    "#Initial condition\n",
    "x0=np.array([-8, -8, 27])\n",
    "\n",
    "def difeq(data,t):\n",
    "    '''System of differential eqautions'''\n",
    "    x,y,z=data\n",
    "    xp=sigma*(y-x)\n",
    "    yp=x*(rho-z)-y\n",
    "    zp=x*y-beta*z\n",
    "    return [xp,yp,zp]"
   ]
  },
  {
   "cell_type": "code",
   "execution_count": 4,
   "metadata": {},
   "outputs": [],
   "source": [
    "dt=0.01\n",
    "T=10000\n",
    "discard_t = 100\n",
    "T_total = T+discard_t\n",
    "t=np.arange(0,T_total,dt)\n",
    "X=integrate.odeint(difeq,x0,t)[int(discard_t):]\n",
    "N=len(X)"
   ]
  },
  {
   "cell_type": "markdown",
   "metadata": {},
   "source": [
    "## Computing Lyapunov exponents for known flow matrix\n",
    "The flow matrix does locally describe the evolution of points in the phase space. In the case of the Lorenz system, one can easily find the flow matrix by taking the Jacobian of the Lorenz system. The implemented algorithm follows the algorithm proposed by Chen et al. in \"Computing Lyapunov exponents based on the solution expression of the variational system\". "
   ]
  },
  {
   "cell_type": "code",
   "execution_count": 35,
   "metadata": {},
   "outputs": [
    {
     "name": "stderr",
     "output_type": "stream",
     "text": [
      "100%|████████████████████████████████| 500009/500009 [00:30<00:00, 16389.31it/s]\n"
     ]
    },
    {
     "data": {
      "text/plain": [
       "array([ 9.02446646e-01, -9.35830947e-05, -1.45689924e+01])"
      ]
     },
     "execution_count": 35,
     "metadata": {},
     "output_type": "execute_result"
    }
   ],
   "source": [
    "def get_Jacobian(pos):\n",
    "    \"\"\"Explicit Jacobian for Lorenz system\"\"\"\n",
    "    x,y,z=pos\n",
    "    J=np.array([[-sigma,sigma,0],[rho-z,-1,-x],[y,x,-beta]])\n",
    "    return J\n",
    "\n",
    "def QR_decomp(Matrix):\n",
    "    '''This fct does QR decomposition of the input matrix \n",
    "    and makes sure that the diagonal element of R are positive\n",
    "    (This is conventional as the QR decomposition is not unique)'''\n",
    "    Qmat,Rmat = np.linalg.qr(Matrix)\n",
    "    Rdiag=np.diag(Rmat)\n",
    "    for k in range(len(Rdiag)):\n",
    "        if Rdiag[k]<0:\n",
    "            Rmat[k,:]=-Rmat[k,:]\n",
    "            Qmat[:,k]=-Qmat[:,k]\n",
    "    return Qmat,Rmat\n",
    "\n",
    "\n",
    "def lyapexp(data,N,dt,L=50):\n",
    "    #Dimension of state space\n",
    "    dim=len(data.T)\n",
    "\n",
    "    \n",
    "    #Global flow\n",
    "    Flow = np.identity(dim)\n",
    "    Qhat = np.identity(dim)\n",
    "    \n",
    "    #local Jacobian at point data[0]\n",
    "    J=get_Jacobian(data[0])\n",
    "\n",
    "    #time evolution\n",
    "    M=expm(dt*J)\n",
    "\n",
    "    #Using Q,R decomposition\n",
    "    Q, R = QR_decomp(M)\n",
    "    \n",
    "    #Storing the Lyapunov exponents\n",
    "    exponents = np.zeros(len(R))\n",
    "    \n",
    "    for i in tqdm(range(1,N)):\n",
    "        J=get_Jacobian(data[i])\n",
    "        M=expm(dt*J)\n",
    "        Flow = np.dot(M,Flow)\n",
    "        \n",
    "        #Compute Lyapunov exponent\n",
    "        if i % L == 0:\n",
    "            Flow = np.linalg.multi_dot([Qhat.T, Flow, Qhat])\n",
    "            Q, R = QR_decomp(Flow)\n",
    "            exponents=exponents+np.log(np.diag(R))\n",
    "            #Compute new Qhat\n",
    "            Qhat = np.dot(Qhat,Q)\n",
    "            #Reset the flow\n",
    "            Flow = np.identity(dim)\n",
    "    #Normalization Constant\n",
    "    Normal=N*dt\n",
    "    return exponents/Normal\n",
    "\n",
    "\n",
    "lyapexp(X,N=500010,dt=0.01,L=1)\n",
    "\n"
   ]
  }
 ],
 "metadata": {
  "kernelspec": {
   "display_name": "Python 3 (ipykernel)",
   "language": "python",
   "name": "python3"
  },
  "language_info": {
   "codemirror_mode": {
    "name": "ipython",
    "version": 3
   },
   "file_extension": ".py",
   "mimetype": "text/x-python",
   "name": "python",
   "nbconvert_exporter": "python",
   "pygments_lexer": "ipython3",
   "version": "3.11.0"
  }
 },
 "nbformat": 4,
 "nbformat_minor": 4
}
